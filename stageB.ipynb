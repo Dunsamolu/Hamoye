{
 "cells": [
  {
   "cell_type": "code",
   "execution_count": null,
   "id": "d5d4105e",
   "metadata": {
    "scrolled": false
   },
   "outputs": [],
   "source": [
    "import pandas as pd\n",
    "import numpy as np\n",
    "import seaborn as sns\n",
    "\n",
    "\n",
    "url = ('https://archive.ics.uci.edu/ml/machine-learning-databases/00374/energydata_complete.csv')\n",
    "\n",
    "e_data= pd.read_csv(url)\n",
    "#print(e_data.head())\n",
    "#print(e_data.columns)\n",
    "\n",
    "#rename columns\n",
    "names = list(e_data.columns)\n",
    "#print(names)\n",
    "change_to = ['X1', 'X2', 'X3', 'X4', 'X5', 'X6', 'X7', 'X8', 'X9', 'X10', 'X11', 'X12','X13','X14','X15','X16','X17','X18',\n",
    "              'X19', 'X20','X21', 'X22', 'X23','X24','X25', 'X26','X27','Y1', 'Y2']\n",
    "column_names = dict(zip(change_to,names))\n",
    "#print(column_names)\n",
    "e_data = e_data.rename(columns = column_names)\n",
    "\n",
    "\n",
    "\n",
    "\n",
    "#select sample of the dataset\n",
    "simple_linear_reg_e_data = e_data[['T4', 'T6']].sample(15, random_state=2) \n",
    "\n",
    "#regression plot\n",
    "sns.regplot(x='T2',y='T6',data=simple_linear_reg_e_data)\n",
    "\n",
    "#first normalise our dataset to common scale using the min  max scaler\n",
    "from sklearn.preprocessing import MinMaxScaler\n",
    "scaler= MinMaxScaler()\n",
    "normalised_e_data = pd.DataFrame(scaler.fit_transform(e_data), columns=e_data.columns)\n",
    "features_e_data = normalised_e_data.drop(columns=['T2', 'T6'])\n",
    "Temperature_living = normalised_e_data['T2']\n",
    "\n",
    "\n",
    "#now, we split our dataset into the training and testiing dataset\n",
    "from sklearn.model_selection import train_test_split\n",
    "x_train, x_test, y_train, y_test = train_test_split(features_e_data,Temperature_living,test_size=0.3, random_state=1)\n",
    "\n",
    "linear_model = LinearRegression()\n",
    "#fit the model to the training dataset\n",
    "linear_model.fit(x_train,y_train)\n",
    "#obtain predictions\n",
    "predicted_values = linear_model.predict(x_test)\n",
    "\n",
    "\n",
    "#MAE\n",
    "from sklearn.metrics import mean_absolute_error\n",
    "mae = mean_absolute_error(y_test, predicted_values)\n",
    "round(mae, 3)\n",
    "\n",
    "from sklearn.metrics import mean_squared_error\n",
    "rmse = np.sqrt(mean_squared_error(y_test, predicted_values))\n",
    "round(rmse, 3)\n",
    "\n",
    "from sklearn.metrics import r2_score\n",
    "r2_score = r2_score(y_test, predicted_values)\n",
    "round(r2_score, 3)"
   ]
  }
 ],
 "metadata": {
  "kernelspec": {
   "display_name": "Python 3 (ipykernel)",
   "language": "python",
   "name": "python3"
  },
  "language_info": {
   "codemirror_mode": {
    "name": "ipython",
    "version": 3
   },
   "file_extension": ".py",
   "mimetype": "text/x-python",
   "name": "python",
   "nbconvert_exporter": "python",
   "pygments_lexer": "ipython3",
   "version": "3.9.7"
  }
 },
 "nbformat": 4,
 "nbformat_minor": 5
}
